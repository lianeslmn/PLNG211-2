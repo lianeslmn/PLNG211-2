{
  "nbformat": 4,
  "nbformat_minor": 0,
  "metadata": {
    "colab": {
      "provenance": [],
      "authorship_tag": "ABX9TyP2D3fqVune+JmenV981gdn",
      "include_colab_link": true
    },
    "kernelspec": {
      "name": "python3",
      "display_name": "Python 3"
    },
    "language_info": {
      "name": "python"
    }
  },
  "cells": [
    {
      "cell_type": "markdown",
      "metadata": {
        "id": "view-in-github",
        "colab_type": "text"
      },
      "source": [
        "<a href=\"https://colab.research.google.com/github/lianeslmn/PLNG211-2-OLFU-QC/blob/main/Python_Function_Exercise.ipynb\" target=\"_parent\"><img src=\"https://colab.research.google.com/assets/colab-badge.svg\" alt=\"Open In Colab\"/></a>"
      ]
    },
    {
      "cell_type": "code",
      "execution_count": 1,
      "metadata": {
        "colab": {
          "base_uri": "https://localhost:8080/"
        },
        "id": "0xhhWhuvs5t4",
        "outputId": "b34e0e85-6d31-4b87-a5a5-abb6de38634c"
      },
      "outputs": [
        {
          "output_type": "stream",
          "name": "stdout",
          "text": [
            "2\n",
            "7\n",
            "5\n"
          ]
        }
      ],
      "source": [
        "def fun(element):\n",
        "    return(len(element))\n",
        " \n",
        "a =[2, 3 , 4]\n",
        "print(min(a))\n",
        "b =[2, -3, 4, 7, -5]\n",
        "print(max(b))\n",
        "c =[2, -3, min (4,7), 5]\n",
        "print (max(c))"
      ]
    },
    {
      "cell_type": "code",
      "source": [
        "import math\n",
        "\n",
        "def sum(firstInt,secondInt,thirdInt):\n",
        "  return firstInt + secondInt + thirdInt\n",
        "def average(firstInt,secondInt,thirdInt):\n",
        "  return firstInt + secondInt + thirdInt/3\n",
        "def sumSquare(firstInt,secondInt,thirdInt):\n",
        "  return math.pow(firstInt,2) + math.pow(secondInt,2) + math.pow(thirdInt,2)\n",
        "\n",
        "firstInt= int(input())\n",
        "secondInt= int(input())\n",
        "thirdInt= int(input())\n",
        "\n",
        "print(\"Sum =\",sum(firstInt,secondInt,thirdInt))\n",
        "print(\"Average =\",average(firstInt,secondInt,thirdInt))\n",
        "print(\"Sum of Squares =\",sumSquare(firstInt,secondInt,thirdInt))"
      ],
      "metadata": {
        "colab": {
          "base_uri": "https://localhost:8080/"
        },
        "id": "CT93SfhxtOB9",
        "outputId": "6256367c-1e20-4b3a-e622-0b23c7b8ac51"
      },
      "execution_count": 2,
      "outputs": [
        {
          "output_type": "stream",
          "name": "stdout",
          "text": [
            "2\n",
            "3\n",
            "5\n",
            "Sum = 10\n",
            "Average = 6.666666666666667\n",
            "Sum of Squares = 38.0\n"
          ]
        }
      ]
    }
  ]
}