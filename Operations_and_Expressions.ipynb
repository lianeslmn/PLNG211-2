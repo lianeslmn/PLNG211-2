{
  "nbformat": 4,
  "nbformat_minor": 0,
  "metadata": {
    "colab": {
      "provenance": [],
      "authorship_tag": "ABX9TyMl9ErNJOd1xuLhFKLmLeyB",
      "include_colab_link": true
    },
    "kernelspec": {
      "name": "python3",
      "display_name": "Python 3"
    },
    "language_info": {
      "name": "python"
    }
  },
  "cells": [
    {
      "cell_type": "markdown",
      "metadata": {
        "id": "view-in-github",
        "colab_type": "text"
      },
      "source": [
        "<a href=\"https://colab.research.google.com/github/lianeslmn/PLNG211-2-OLFU-QC/blob/main/Operations_and_Expressions.ipynb\" target=\"_parent\"><img src=\"https://colab.research.google.com/assets/colab-badge.svg\" alt=\"Open In Colab\"/></a>"
      ]
    },
    {
      "cell_type": "code",
      "execution_count": 1,
      "metadata": {
        "colab": {
          "base_uri": "https://localhost:8080/"
        },
        "id": "M2zo_2MS-f8F",
        "outputId": "18f22dc7-5d96-4fd0-f18f-9a1363ddb68e"
      },
      "outputs": [
        {
          "output_type": "stream",
          "name": "stdout",
          "text": [
            "False\n",
            "False\n",
            "False\n"
          ]
        }
      ],
      "source": [
        "#Boolean Operators\n",
        "\n",
        "a = 15\n",
        "b = 20\n",
        "print(a>b)\n",
        "print(b==a)\n",
        "print(15>20)"
      ]
    },
    {
      "cell_type": "code",
      "source": [
        "#Boolean () Function\n",
        "\n",
        "print(bool(2))\n",
        "print(bool(\"Hello World\"))\n",
        "print(bool(0))\n",
        "print(bool(None))\n",
        "print(bool([]))"
      ],
      "metadata": {
        "colab": {
          "base_uri": "https://localhost:8080/"
        },
        "id": "THttG3sb-nZZ",
        "outputId": "717b61a7-618d-47ed-f70c-146f52815484"
      },
      "execution_count": 10,
      "outputs": [
        {
          "output_type": "stream",
          "name": "stdout",
          "text": [
            "True\n",
            "True\n",
            "False\n",
            "False\n",
            "False\n"
          ]
        }
      ]
    },
    {
      "cell_type": "code",
      "source": [
        "#Function that returns a boolean answer\n",
        "\n",
        "def My_Function():\n",
        "  return False\n",
        "\n",
        "if My_Function():\n",
        "  print(\"Correct\")\n",
        "else:\n",
        "  print(\"Incorrect\")"
      ],
      "metadata": {
        "colab": {
          "base_uri": "https://localhost:8080/"
        },
        "id": "nROecqou-ryL",
        "outputId": "7ad25f1a-920f-46ec-c10a-c4bcd4d073e1"
      },
      "execution_count": 3,
      "outputs": [
        {
          "output_type": "stream",
          "name": "stdout",
          "text": [
            "Incorrect\n"
          ]
        }
      ]
    },
    {
      "cell_type": "code",
      "source": [
        "c = 6\n",
        "d = 7\n",
        "print(c==d)\n",
        "print(c!=d)"
      ],
      "metadata": {
        "colab": {
          "base_uri": "https://localhost:8080/"
        },
        "id": "QXQXoc3K-uNU",
        "outputId": "4bfa21c8-a5a7-4cd2-dbd5-253e05b653d6"
      },
      "execution_count": 4,
      "outputs": [
        {
          "output_type": "stream",
          "name": "stdout",
          "text": [
            "False\n",
            "True\n"
          ]
        }
      ]
    },
    {
      "cell_type": "code",
      "source": [
        "#Python Operators\n",
        "\n",
        "print(5+15)\n",
        "print(15-5)\n",
        "print(5*5)\n",
        "print(5**5)\n",
        "print(9/3)       #division\n",
        "print(9//4)      #floor division\n",
        "print(9%4)        #remainder"
      ],
      "metadata": {
        "colab": {
          "base_uri": "https://localhost:8080/"
        },
        "id": "xhCtmL5e-yTE",
        "outputId": "f9cbdbed-2625-44e8-ecf0-f13195fc9748"
      },
      "execution_count": 5,
      "outputs": [
        {
          "output_type": "stream",
          "name": "stdout",
          "text": [
            "20\n",
            "10\n",
            "25\n",
            "3125\n",
            "3.0\n",
            "2\n",
            "1\n"
          ]
        }
      ]
    },
    {
      "cell_type": "code",
      "source": [
        "#Python Bitwise Operators\n",
        "\n",
        "e = 60\n",
        "f = 13        \n",
        "#& and, #| or,   #-/~\n",
        "\n",
        "print(e>>1)\n",
        "print(e<<1)\n",
        "print(~f)      #00001101, 2s complement"
      ],
      "metadata": {
        "colab": {
          "base_uri": "https://localhost:8080/"
        },
        "id": "_pgyFlyH-1e6",
        "outputId": "90358efd-59dc-4063-8edf-fb058a0020c7"
      },
      "execution_count": 6,
      "outputs": [
        {
          "output_type": "stream",
          "name": "stdout",
          "text": [
            "30\n",
            "120\n",
            "-14\n"
          ]
        }
      ]
    },
    {
      "cell_type": "code",
      "source": [
        "#Python Assignment Operator\n",
        "\n",
        "x= 18\n",
        "y = 7\n",
        "x+=3    #same as x = x +3   , x  = 18+3  = 21\n",
        "print(\"x=\",x)"
      ],
      "metadata": {
        "colab": {
          "base_uri": "https://localhost:8080/"
        },
        "id": "A0B-FtUJ-51D",
        "outputId": "d55edc29-c1e1-4703-8f53-d5f79e6251c1"
      },
      "execution_count": 7,
      "outputs": [
        {
          "output_type": "stream",
          "name": "stdout",
          "text": [
            "x= 21\n"
          ]
        }
      ]
    },
    {
      "cell_type": "code",
      "source": [
        "#Logical Operators\n",
        "\n",
        "print(x>y and x==x)\n",
        "print(y!=y or x==y)\n",
        "print(not(y!=y or x==y))"
      ],
      "metadata": {
        "colab": {
          "base_uri": "https://localhost:8080/"
        },
        "id": "uWQ7-XH3-9nS",
        "outputId": "77d68733-919c-495b-f8dc-f6df1522a2b5"
      },
      "execution_count": 8,
      "outputs": [
        {
          "output_type": "stream",
          "name": "stdout",
          "text": [
            "True\n",
            "False\n",
            "True\n"
          ]
        }
      ]
    },
    {
      "cell_type": "code",
      "source": [
        "#Identity Operators\n",
        "\n",
        "#is, is not\n",
        "print(x is y)\n",
        "print(x is x)\n",
        "print(x is not y)"
      ],
      "metadata": {
        "colab": {
          "base_uri": "https://localhost:8080/"
        },
        "id": "2qYO3NbU_ATD",
        "outputId": "f39c3c55-d441-49f3-951e-dcf1174a3e7b"
      },
      "execution_count": 9,
      "outputs": [
        {
          "output_type": "stream",
          "name": "stdout",
          "text": [
            "False\n",
            "True\n",
            "True\n"
          ]
        }
      ]
    }
  ]
}