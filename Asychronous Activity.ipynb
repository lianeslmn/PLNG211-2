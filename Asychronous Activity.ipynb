{
  "nbformat": 4,
  "nbformat_minor": 0,
  "metadata": {
    "colab": {
      "provenance": [],
      "authorship_tag": "ABX9TyMOlUJHFhBZZ9dvWDfF8YRp",
      "include_colab_link": true
    },
    "kernelspec": {
      "name": "python3",
      "display_name": "Python 3"
    },
    "language_info": {
      "name": "python"
    }
  },
  "cells": [
    {
      "cell_type": "markdown",
      "metadata": {
        "id": "view-in-github",
        "colab_type": "text"
      },
      "source": [
        "<a href=\"https://colab.research.google.com/github/lianeslmn/PLNG211-2-OLFU-QC/blob/main/Asychronous%20Activity.ipynb\" target=\"_parent\"><img src=\"https://colab.research.google.com/assets/colab-badge.svg\" alt=\"Open In Colab\"/></a>"
      ]
    },
    {
      "cell_type": "code",
      "execution_count": 1,
      "metadata": {
        "colab": {
          "base_uri": "https://localhost:8080/"
        },
        "id": "U5zjAcE5AFtv",
        "outputId": "2a0fff34-a059-4ba1-b6b3-87b4af375d84"
      },
      "outputs": [
        {
          "output_type": "execute_result",
          "data": {
            "text/plain": [
              "5.0"
            ]
          },
          "metadata": {},
          "execution_count": 1
        }
      ],
      "source": [
        "3+5-6*2/4"
      ]
    },
    {
      "cell_type": "code",
      "source": [
        "for var in range(5):\n",
        "  print(var)"
      ],
      "metadata": {
        "colab": {
          "base_uri": "https://localhost:8080/"
        },
        "id": "fLyzJjCQAKTt",
        "outputId": "cc7ea122-194d-4021-dd0b-db1dc515a4b8"
      },
      "execution_count": 2,
      "outputs": [
        {
          "output_type": "stream",
          "name": "stdout",
          "text": [
            "0\n",
            "1\n",
            "2\n",
            "3\n",
            "4\n"
          ]
        }
      ]
    },
    {
      "cell_type": "code",
      "source": [
        "for var in range(0,6+1,2):\n",
        "  print(var)"
      ],
      "metadata": {
        "colab": {
          "base_uri": "https://localhost:8080/"
        },
        "id": "LU3uZrJoAM0F",
        "outputId": "10d18917-ef1e-4830-9a9a-1c9996e6b7a7"
      },
      "execution_count": 3,
      "outputs": [
        {
          "output_type": "stream",
          "name": "stdout",
          "text": [
            "0\n",
            "2\n",
            "4\n",
            "6\n"
          ]
        }
      ]
    },
    {
      "cell_type": "code",
      "source": [
        "varlist= [1,2,3,4,5,6,7,8,9,10]\n",
        "print(varlist[2:9:2])   "
      ],
      "metadata": {
        "colab": {
          "base_uri": "https://localhost:8080/"
        },
        "id": "rhhBwBaSAO4M",
        "outputId": "18603b2c-a2d7-4824-9e41-ee809068b015"
      },
      "execution_count": 4,
      "outputs": [
        {
          "output_type": "stream",
          "name": "stdout",
          "text": [
            "[3, 5, 7, 9]\n"
          ]
        }
      ]
    },
    {
      "cell_type": "code",
      "source": [
        "var1, var2, var3 = \"ABC\",'DEF',\"GHI\"\n",
        "print(var1)\n",
        "print(var2)\n",
        "print(var3)\n",
        "\n",
        "a = b = c = 'abc'\n",
        "print(a)\n",
        "print(b)\n",
        "print(c)"
      ],
      "metadata": {
        "colab": {
          "base_uri": "https://localhost:8080/"
        },
        "id": "0jAINsptAXFV",
        "outputId": "826c8cad-7a66-4c50-8144-d2cd020c9504"
      },
      "execution_count": 5,
      "outputs": [
        {
          "output_type": "stream",
          "name": "stdout",
          "text": [
            "ABC\n",
            "DEF\n",
            "GHI\n",
            "abc\n",
            "abc\n",
            "abc\n"
          ]
        }
      ]
    }
  ]
}