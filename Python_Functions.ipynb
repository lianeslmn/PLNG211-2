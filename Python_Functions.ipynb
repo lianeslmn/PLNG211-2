{
  "nbformat": 4,
  "nbformat_minor": 0,
  "metadata": {
    "colab": {
      "provenance": [],
      "include_colab_link": true
    },
    "kernelspec": {
      "name": "python3",
      "display_name": "Python 3"
    },
    "language_info": {
      "name": "python"
    }
  },
  "cells": [
    {
      "cell_type": "markdown",
      "metadata": {
        "id": "view-in-github",
        "colab_type": "text"
      },
      "source": [
        "<a href=\"https://colab.research.google.com/github/lianeslmn/PLNG211-2-OLFU-QC/blob/main/Python_Functions.ipynb\" target=\"_parent\"><img src=\"https://colab.research.google.com/assets/colab-badge.svg\" alt=\"Open In Colab\"/></a>"
      ]
    },
    {
      "cell_type": "code",
      "execution_count": null,
      "metadata": {
        "colab": {
          "base_uri": "https://localhost:8080/"
        },
        "id": "-1tZkuARE2j5",
        "outputId": "ba8f5d97-9579-4a5e-ee70-5f629e796622"
      },
      "outputs": [
        {
          "output_type": "stream",
          "name": "stdout",
          "text": [
            "100\n",
            "Celsius 37.78\n",
            "Kelvin 310.93\n"
          ]
        }
      ],
      "source": [
        "def convert_to_celcius(fahrenheit):\n",
        "  return (fahrenheit-32)*5/9\n",
        "\n",
        "def convert_to_kelvin(fahrenheit):\n",
        "  return ((fahrenheit-32)*5/9)+ 273.15\n",
        "fahrenheit= int(input())\n",
        "\n",
        "print(\"Celsius\",round(convert_to_celcius(fahrenheit),2))\n",
        "print(\"Kelvin\",round(convert_to_kelvin(fahrenheit),2))"
      ]
    },
    {
      "cell_type": "code",
      "source": [
        "def Name():\n",
        "  pass"
      ],
      "metadata": {
        "id": "iUM427KgQ3zs"
      },
      "execution_count": null,
      "outputs": []
    },
    {
      "cell_type": "code",
      "source": [
        "def my_function(fname):\n",
        "  return(fname+\"Solomon\")\n",
        "\n",
        "print(my_function(\"Liane\"))\n",
        "print(my_function(\"Angela\"))\n",
        "print(my_function(\"Deirus\"))"
      ],
      "metadata": {
        "colab": {
          "base_uri": "https://localhost:8080/"
        },
        "id": "twm_oSAjRcl5",
        "outputId": "84c9a9f8-68a7-425c-d562-b62a77f1184f"
      },
      "execution_count": null,
      "outputs": [
        {
          "output_type": "stream",
          "name": "stdout",
          "text": [
            "MamSayo\n",
            "MariaSayo\n",
            "RizetteSayo\n"
          ]
        }
      ]
    },
    {
      "cell_type": "code",
      "source": [
        "#Returns a value\n",
        "def myFunction(x):\n",
        "  return(5+x)\n",
        "\n",
        "print(myFunction(4))\n",
        "print(myFunction(5))\n",
        "print(myFunction(6))"
      ],
      "metadata": {
        "colab": {
          "base_uri": "https://localhost:8080/"
        },
        "id": "rZlJniggSHct",
        "outputId": "e0935bf0-a6af-4557-d618-581bae30cb2c"
      },
      "execution_count": null,
      "outputs": [
        {
          "output_type": "stream",
          "name": "stdout",
          "text": [
            "9\n",
            "10\n",
            "11\n"
          ]
        }
      ]
    },
    {
      "cell_type": "code",
      "source": [
        "#Exercise 1\n",
        "print(min(2,3,4))\n",
        "print(max(2,-3,4,7,-5))\n",
        "print(max(2,-3,min(4,7),-5))"
      ],
      "metadata": {
        "colab": {
          "base_uri": "https://localhost:8080/"
        },
        "id": "AEIq1YPeTXMv",
        "outputId": "58f50527-dd9a-4538-e969-028911f9d43d"
      },
      "execution_count": null,
      "outputs": [
        {
          "output_type": "stream",
          "name": "stdout",
          "text": [
            "2\n",
            "7\n",
            "4\n"
          ]
        }
      ]
    },
    {
      "cell_type": "code",
      "source": [
        "#Exercise 2\n",
        "import math\n",
        "\n",
        "def sum(firstInt,secondInt,thirdInt):\n",
        "  return firstInt + secondInt + thirdInt\n",
        "def average(firstInt,secondInt,thirdInt):\n",
        "  return (firstInt + secondInt + thirdInt)/3\n",
        "def sumSquare(firstInt,secondInt,thirdInt):\n",
        "  return math.pow(firstInt,2) + math.pow(secondInt,2) + math.pow(thirdInt,2)\n",
        "\n",
        "firstInt= int(input())\n",
        "secondInt= int(input())\n",
        "thirdInt= int(input())\n",
        "\n",
        "print(\"Sum =\",sum(firstInt,secondInt,thirdInt))\n",
        "print(\"Average =\",average(firstInt,secondInt,thirdInt))\n",
        "print(\"Sum of Squares =\",sumSquare(firstInt,secondInt,thirdInt))"
      ],
      "metadata": {
        "colab": {
          "base_uri": "https://localhost:8080/"
        },
        "id": "QNwz5TkYTc7F",
        "outputId": "a28d7cfc-ddb0-467d-8bde-8e4a65923113"
      },
      "execution_count": null,
      "outputs": [
        {
          "output_type": "stream",
          "name": "stdout",
          "text": [
            "2\n",
            "3\n",
            "4\n",
            "Sum = 9\n",
            "Average = 3.0\n",
            "Sum of Squares = 29.0\n"
          ]
        }
      ]
    }
  ]
}