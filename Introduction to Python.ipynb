{
  "cells": [
    {
      "cell_type": "markdown",
      "metadata": {
        "id": "view-in-github",
        "colab_type": "text"
      },
      "source": [
        "<a href=\"https://colab.research.google.com/github/lianeslmn/PLNG211-2-OLFU-QC/blob/main/Introduction%20to%20Python.ipynb\" target=\"_parent\"><img src=\"https://colab.research.google.com/assets/colab-badge.svg\" alt=\"Open In Colab\"/></a>"
      ]
    },
    {
      "cell_type": "markdown",
      "source": [
        "Python Indention"
      ],
      "metadata": {
        "id": "A_2xj3Jl7Cyi"
      }
    },
    {
      "cell_type": "code",
      "source": [
        "if 10<19:\n",
        "  print(\"Ten is Less Than Nineteen\")"
      ],
      "metadata": {
        "colab": {
          "base_uri": "https://localhost:8080/"
        },
        "id": "BQD3zCkF7f4l",
        "outputId": "e57feb9e-89b3-43da-e0ed-410b472b16b4"
      },
      "execution_count": 2,
      "outputs": [
        {
          "output_type": "stream",
          "name": "stdout",
          "text": [
            "Ten is Less Than Nineteen\n"
          ]
        }
      ]
    },
    {
      "cell_type": "markdown",
      "source": [
        "Python Comments"
      ],
      "metadata": {
        "id": "tkaqCLrx7wNs"
      }
    },
    {
      "cell_type": "code",
      "source": [
        "print(\"Python if fun\")"
      ],
      "metadata": {
        "colab": {
          "base_uri": "https://localhost:8080/"
        },
        "id": "1-4JdtnS70UR",
        "outputId": "0d89c1dd-0d72-43f5-c473-bdef92e28be0"
      },
      "execution_count": 3,
      "outputs": [
        {
          "output_type": "stream",
          "name": "stdout",
          "text": [
            "Python if fun\n"
          ]
        }
      ]
    },
    {
      "cell_type": "markdown",
      "source": [
        "Python Variable"
      ],
      "metadata": {
        "id": "kTuyMvjl8iSs"
      }
    },
    {
      "cell_type": "code",
      "source": [
        "a = 1\n",
        "b = 19\n",
        "\n",
        "print(b)"
      ],
      "metadata": {
        "colab": {
          "base_uri": "https://localhost:8080/"
        },
        "id": "LqniULC38mBI",
        "outputId": "cebb82a4-f606-47c1-a8d0-0e05960d349f"
      },
      "execution_count": 5,
      "outputs": [
        {
          "output_type": "stream",
          "name": "stdout",
          "text": [
            "19\n"
          ]
        }
      ]
    },
    {
      "cell_type": "markdown",
      "source": [
        "Double and Single Quotes"
      ],
      "metadata": {
        "id": "_XrhztUr81vg"
      }
    },
    {
      "cell_type": "code",
      "source": [
        "l = \"Liane\"\n",
        "s = 'Liane'\n",
        "\n",
        "print(l)\n",
        "print(s)"
      ],
      "metadata": {
        "colab": {
          "base_uri": "https://localhost:8080/"
        },
        "id": "EyBhifFU84Ba",
        "outputId": "367c68d3-f110-4d1c-d877-33df0934bbfe"
      },
      "execution_count": 6,
      "outputs": [
        {
          "output_type": "stream",
          "name": "stdout",
          "text": [
            "Liane\n",
            "Liane\n"
          ]
        }
      ]
    },
    {
      "cell_type": "markdown",
      "source": [
        "Multiple Variable"
      ],
      "metadata": {
        "id": "LYBONtPz9YR7"
      }
    },
    {
      "cell_type": "code",
      "source": [
        "l,i,a,n,e = 1,1,9,0,1\n",
        "\n",
        "print(l)\n",
        "print(i)\n",
        "print(a)\n",
        "print(n)\n",
        "print(e)"
      ],
      "metadata": {
        "colab": {
          "base_uri": "https://localhost:8080/"
        },
        "id": "SvaOJBYs9dyc",
        "outputId": "d02ccc70-9bb5-426d-fc4e-e44d8e470654"
      },
      "execution_count": 8,
      "outputs": [
        {
          "output_type": "stream",
          "name": "stdout",
          "text": [
            "1\n",
            "1\n",
            "9\n",
            "0\n",
            "1\n"
          ]
        }
      ]
    },
    {
      "cell_type": "markdown",
      "source": [
        "One Value to Multiple Variable"
      ],
      "metadata": {
        "id": "4AEL13if90fE"
      }
    },
    {
      "cell_type": "code",
      "source": [
        "a=b=c='Python is fun'\n",
        "\n",
        "print(a)\n",
        "print(b)\n",
        "print(c)"
      ],
      "metadata": {
        "colab": {
          "base_uri": "https://localhost:8080/"
        },
        "id": "qxVJKeAr94kv",
        "outputId": "653a4123-28d5-4aab-ba26-b2ac88554643"
      },
      "execution_count": 9,
      "outputs": [
        {
          "output_type": "stream",
          "name": "stdout",
          "text": [
            "Python is fun\n",
            "Python is fun\n",
            "Python is fun\n"
          ]
        }
      ]
    }
  ],
  "metadata": {
    "colab": {
      "collapsed_sections": [],
      "name": "Welcome To Colaboratory",
      "toc_visible": true,
      "provenance": [],
      "include_colab_link": true
    },
    "kernelspec": {
      "display_name": "Python 3",
      "name": "python3"
    }
  },
  "nbformat": 4,
  "nbformat_minor": 0
}