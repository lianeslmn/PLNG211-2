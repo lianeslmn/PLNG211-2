{
  "nbformat": 4,
  "nbformat_minor": 0,
  "metadata": {
    "colab": {
      "provenance": [],
      "authorship_tag": "ABX9TyMTb3PpwGpMjh1FSfy/qfAr",
      "include_colab_link": true
    },
    "kernelspec": {
      "name": "python3",
      "display_name": "Python 3"
    },
    "language_info": {
      "name": "python"
    }
  },
  "cells": [
    {
      "cell_type": "markdown",
      "metadata": {
        "id": "view-in-github",
        "colab_type": "text"
      },
      "source": [
        "<a href=\"https://colab.research.google.com/github/lianeslmn/PLNG211-2-OLFU-QC/blob/main/Solomon%2CLianeAngela_Exercise1.ipynb\" target=\"_parent\"><img src=\"https://colab.research.google.com/assets/colab-badge.svg\" alt=\"Open In Colab\"/></a>"
      ]
    },
    {
      "cell_type": "code",
      "execution_count": 1,
      "metadata": {
        "colab": {
          "base_uri": "https://localhost:8080/"
        },
        "id": "QjmpTRNUiUN9",
        "outputId": "42037f11-b63d-4e0e-f3d2-1160598659b8"
      },
      "outputs": [
        {
          "output_type": "stream",
          "name": "stdout",
          "text": [
            "ODD Numbers: \n",
            "49\n",
            "87\n",
            "75\n",
            "The sum  of the ODD numbers are: 211\n"
          ]
        }
      ],
      "source": [
        "NUM = [26,49,98,87,62,75]\n",
        "sum = 0;\n",
        "print(\"ODD Numbers: \")\n",
        "for x in NUM:\n",
        "  if(x % 2 == 1):\n",
        "    sum = sum + x\n",
        "    print(x)\n",
        "print(\"The sum  of the ODD numbers are:\", sum)"
      ]
    }
  ]
}