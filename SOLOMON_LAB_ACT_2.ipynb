{
  "nbformat": 4,
  "nbformat_minor": 0,
  "metadata": {
    "colab": {
      "provenance": [],
      "authorship_tag": "ABX9TyNUDh92Ux0YyceLiRLm8ZU5",
      "include_colab_link": true
    },
    "kernelspec": {
      "name": "python3",
      "display_name": "Python 3"
    },
    "language_info": {
      "name": "python"
    }
  },
  "cells": [
    {
      "cell_type": "markdown",
      "metadata": {
        "id": "view-in-github",
        "colab_type": "text"
      },
      "source": [
        "<a href=\"https://colab.research.google.com/github/lianeslmn/PLNG211-2-OLFU-QC/blob/main/SOLOMON_LAB_ACT_2.ipynb\" target=\"_parent\"><img src=\"https://colab.research.google.com/assets/colab-badge.svg\" alt=\"Open In Colab\"/></a>"
      ]
    },
    {
      "cell_type": "code",
      "execution_count": 3,
      "metadata": {
        "colab": {
          "base_uri": "https://localhost:8080/"
        },
        "id": "pjKJW0QiWBYY",
        "outputId": "5e7776b4-c0a6-40ee-f8bc-fea997fec500"
      },
      "outputs": [
        {
          "output_type": "stream",
          "name": "stdout",
          "text": [
            "Hello, my name is Solomon, Liane Angela R.\n",
            "My student number is 19-70219-408\n",
            "I am 21 years old\n",
            "My course in Our Lady of Fatima University\n",
            "is Bachelor of Science in Computer Science\n"
          ]
        }
      ],
      "source": [
        "class Student:\n",
        "  name = \"Solomon, Liane Angela R.\"\n",
        "  student_num = \"19-70219-408\"\n",
        "  age = \"21\"\n",
        "  school = \"Our Lady of Fatima University\"\n",
        "  course = \"Bachelor of Science in Computer Science\"\n",
        "\n",
        "  def info(myself):\n",
        "    print(\"Hello, my name is \" + myself.name)\n",
        "    print(\"My student number is \" + myself.student_num)\n",
        "    print(\"I am \" + myself.age + \" years old\")\n",
        "    print(\"My course in \" + myself.school)\n",
        "    print(\"is \" + myself.course)\n",
        "p1 = Student()\n",
        "\n",
        "p1.info()"
      ]
    }
  ]
}